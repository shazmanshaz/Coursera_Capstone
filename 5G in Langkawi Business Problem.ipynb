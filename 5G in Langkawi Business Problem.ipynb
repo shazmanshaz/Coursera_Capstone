{
    "cells": [
        {
            "cell_type": "markdown",
            "metadata": {
                "collapsed": true
            },
            "source": "## A. Introduction"
        },
        {
            "cell_type": "markdown",
            "metadata": {},
            "source": "### A.1 Description and Discussion on the Background"
        },
        {
            "cell_type": "markdown",
            "metadata": {},
            "source": "Langkawi is a district and an archipelago of 99 islands in the Andaman Sea. The islands are part of the state of Kedah, Malaysia. Langkawi is one of UNESCO Global Geoparks,  and it is one of Malaysia\u2019s major tourist attractions well known for its eco tourism. \n\nLangkawi\u2019s total area is approximately 478.48km2 (184.74 sq mil). The population as at 2010 census is 85,588 and density of 180/km2 (460/sq mil).\n\nThe government of Malaysia is rolling out its ambitious 5G plan. Working along side with the major Malaysian private telco companies, they are spearheading the effort to bring 5G in phases across the country.  \n\nDubbed \u2018Isla Nublar\u2019, a fictional island of Jurassic Park, Langkawi is an ideal starting ground for building and testing infrastructure due to its rugged terrain, robust infrastructure, varieties of residential, tourism, commercial, factories administrative and agricultural areas which offer an ideal \u2018sandbox\u2019 environment to build the 5G infrastructure."
        },
        {
            "cell_type": "markdown",
            "metadata": {},
            "source": "### A.2 Problems"
        },
        {
            "cell_type": "markdown",
            "metadata": {},
            "source": "As 5G operates on a shorter wavelength compared to the existing 4G, the nodes needs to be placed at strategic areas to maximise the coverage. However, the limitation of 5G shorter wavelength is that it requires more placement of nodes in order to give the best coverage. In addition, weather and even buildings may affect the effectiveness of 5G coverage."
        },
        {
            "cell_type": "markdown",
            "metadata": {},
            "source": "### A.3 Assumptions"
        },
        {
            "cell_type": "markdown",
            "metadata": {},
            "source": "One of 5Gs capabilities is network slicing, which is is a network architecture that enables the multiplexing of virtualised and independent logical networks on the same physical network infrastructure. In simple terms, network slicing will let operators provide portions of their networks for specific customer uses cases \u2014 whether that use case is the smart home, the Internet of things factory, the connected car, or the smart energy grid etc."
        },
        {
            "cell_type": "markdown",
            "metadata": {},
            "source": "### A.4 Hypothesis"
        },
        {
            "cell_type": "markdown",
            "metadata": {},
            "source": "5G nodes can be placed at strategic areas and the network can be sliced based on clusters such as residential, hotels, businesses, utilities, etc. for more effective coverage and optimum user experience."
        },
        {
            "cell_type": "markdown",
            "metadata": {},
            "source": "## B. Data"
        },
        {
            "cell_type": "markdown",
            "metadata": {},
            "source": "### B.1 Data Description"
        },
        {
            "cell_type": "markdown",
            "metadata": {},
            "source": "Langkawi is divided into 6 townships called mukim in Malaysian. In each mukim, they have their own villages, residential, commercial, hospitals  areas etc. "
        },
        {
            "cell_type": "markdown",
            "metadata": {},
            "source": "### B.2 Problems"
        },
        {
            "cell_type": "markdown",
            "metadata": {},
            "source": "There are no accessible data that can be found on the various mukim and its respective areas available on the internet. "
        },
        {
            "cell_type": "markdown",
            "metadata": {},
            "source": "### B.3 Solutions"
        },
        {
            "cell_type": "markdown",
            "metadata": {},
            "source": "As I am going to us the Foursquare API to identify venues in an area, I shall identify landmarks of each mukims. Hence, the landmark I chose is places of worship (i.e mosques). Places of worship is an ideal landmark as they are placed strategically in the mukims which are accessible by roads. From these landmarks, Foursquare can be used to identify the type of venues in their surrounding areas."
        }
    ],
    "metadata": {
        "kernelspec": {
            "display_name": "Python 3.6",
            "language": "python",
            "name": "python3"
        },
        "language_info": {
            "codemirror_mode": {
                "name": "ipython",
                "version": 3
            },
            "file_extension": ".py",
            "mimetype": "text/x-python",
            "name": "python",
            "nbconvert_exporter": "python",
            "pygments_lexer": "ipython3",
            "version": "3.6.9"
        }
    },
    "nbformat": 4,
    "nbformat_minor": 1
}